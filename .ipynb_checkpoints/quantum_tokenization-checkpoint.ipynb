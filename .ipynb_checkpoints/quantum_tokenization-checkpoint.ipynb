{
 "cells": [
  {
   "cell_type": "markdown",
   "metadata": {},
   "source": [
    "# Quantum Tokenization Demo"
   ]
  },
  {
   "cell_type": "code",
   "execution_count": null,
   "metadata": {},
   "outputs": [],
   "source": [
    "from quantum_tokenizer import QuantumTokenizer\n",
    "\n",
    "# Create tokenizer\n",
    "tokenizer = QuantumTokenizer(num_merges=10)\n",
    "\n",
    "# Sample text\n",
    "text = \"\"\"Quantum computing leverages quantum mechanical phenomena to perform\n",
    "computation. Unlike classical bits, quantum bits can exist in superposition.\"\"\"\n",
    "\n",
    "# Tokenize\n",
    "tokens = tokenizer.tokenize(text)\n",
    "print(\"Tokens:\", tokens[:20])"
   ]
  }
 ],
 "metadata": {
  "kernelspec": {
   "display_name": "Python 3",
   "language": "python",
   "name": "python3"
  }
 },
 "nbformat": 4,
 "nbformat_minor": 4
}
